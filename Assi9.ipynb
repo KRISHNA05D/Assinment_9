{
 "cells": [
  {
   "cell_type": "markdown",
   "id": "d073abe2-b6ce-46e3-858c-6aef80077811",
   "metadata": {},
   "source": [
    "Q1. What is Abstraction in OOps? Explain with an example."
   ]
  },
  {
   "cell_type": "markdown",
   "id": "2a453e78-ac94-4365-8c59-1c5d6105c7ae",
   "metadata": {},
   "source": [
    "Answer:-\n",
    "Abstraction in object-Oriented Programming (OOP) is a fundamental concept that focuses on hiding the complex implementation details of a system and exposing only the essential feature and functionalities to the user. This concept allows developers to manage complexity by braking down system into manageable parts and and interacting with its higher level of understanding.\n",
    "\n",
    "Example of Abstraction :-\n",
    "Consider a real-word example of a \"Car\". When you drive a car, you interact with it through simple interfaces like a steering wheel, pedals, and buttons. You do not need to know the complex details of the engine, transmission, or electrical systems to operatethe car.  "
   ]
  },
  {
   "cell_type": "code",
   "execution_count": 1,
   "id": "1dd56b86-5130-460e-8c62-3fcfe26d9674",
   "metadata": {},
   "outputs": [
    {
     "name": "stdout",
     "output_type": "stream",
     "text": [
      "Starter motor engaged.\n",
      "Engine Started.\n",
      "Driving the Toyota Corolla.\n",
      "Engine is already running.\n"
     ]
    }
   ],
   "source": [
    "class Car:\n",
    "    def __init__(self,make,model):\n",
    "        self.make=make\n",
    "        self.model=model\n",
    "        self.engine_started=False\n",
    "        \n",
    "    def start_engine(self):\n",
    "        if not self.engine_started:\n",
    "            self.engine_started_motor()\n",
    "            self.engine_started = True\n",
    "            print(\"Engine Started.\")\n",
    "        else:\n",
    "            print(\"Engine is already running.\")\n",
    "    \n",
    "    def stop_engine(self):\n",
    "        if self.engine_started:\n",
    "            self.disengine_starter_motor()\n",
    "            self.engine_started = False\n",
    "            print(\"Engine stopped.\")\n",
    "        else:\n",
    "            print(\"Engine is nat running.\")\n",
    "    \n",
    "    def engine_started_motor(self):\n",
    "        print(\"Starter motor engaged.\")\n",
    "        \n",
    "    def disengine_starter_motor(self):\n",
    "        print(\"Starter motor disengaged.\")\n",
    "        \n",
    "    def drive(self):\n",
    "        if self.engine_started:\n",
    "            print(f\"Driving the {self.make} {self.model}.\")\n",
    "        else:\n",
    "            print(\"Start the engine first.\")\n",
    "\n",
    "\n",
    "my_car = Car(\"Toyota\",\"Corolla\")\n",
    "my_car.start_engine()\n",
    "my_car.drive()\n",
    "my_car.start_engine()"
   ]
  },
  {
   "cell_type": "markdown",
   "id": "e098e071-07a7-4377-8821-5c9810667cde",
   "metadata": {},
   "source": [
    "Q2. Differentiate between Abstraction and Encapsulation. Explain with an example."
   ]
  },
  {
   "cell_type": "raw",
   "id": "9d61fa84-0f27-4260-a441-0159da0b4999",
   "metadata": {},
   "source": [
    "Answer:-\n",
    "\n",
    "Abstraction and encapsulation are both fundamental concepts in Object-Oriented Programming (OOP), but they serve different purposes and are implemented in distinct ways. Here's a detailed differentiation between the two, along with examples to illustrate their differences:\n",
    "\n",
    "Abstraction\n",
    "Abstraction focuses on hiding the complex implementation details of a system and exposing only the essential features. It simplifies the interaction with the system by providing a high-level interface.\n",
    "\n",
    "Key Points of Abstraction:\n",
    "Purpose: Simplifies complex systems by showing only the necessary details.\n",
    "Implementation: Achieved using abstract classes and interfaces.\n",
    "Example: An ATM machine where users interact with a simple interface to withdraw cash, check balance, etc., without knowing the internal processing."
   ]
  },
  {
   "cell_type": "code",
   "execution_count": 1,
   "id": "27f8b06a-4dd9-44a1-884f-c91a1a2c797a",
   "metadata": {},
   "outputs": [
    {
     "name": "stdout",
     "output_type": "stream",
     "text": [
      "Car engine started.\n",
      "Car engine stopped.\n"
     ]
    }
   ],
   "source": [
    "from abc import ABC, abstractmethod\n",
    "\n",
    "class Vehicle(ABC):\n",
    "    @abstractmethod\n",
    "    def start_engine(self):\n",
    "        pass\n",
    "\n",
    "    @abstractmethod\n",
    "    def stop_engine(self):\n",
    "        pass\n",
    "\n",
    "class Car(Vehicle):\n",
    "    def start_engine(self):\n",
    "        print(\"Car engine started.\")\n",
    "\n",
    "    def stop_engine(self):\n",
    "        print(\"Car engine stopped.\")\n",
    "\n",
    "# Using the abstracted Vehicle interface\n",
    "my_car = Car()\n",
    "my_car.start_engine()\n",
    "my_car.stop_engine()\n"
   ]
  },
  {
   "cell_type": "raw",
   "id": "f7902118-c340-4778-a43f-80cedf7d3a26",
   "metadata": {},
   "source": [
    "Encapsulation\n",
    "Encapsulation is about bundling the data (attributes) and the methods (functions) that operate on the data into a single unit, or class. It also restricts direct access to some of the object's components, which is a means of preventing accidental interference and misuse of the data.\n",
    "\n",
    "Key Points of Encapsulation:\n",
    "Purpose: Protects object integrity by preventing outside interference and misuse.\n",
    "Implementation: Achieved using access modifiers (private, protected, public).\n",
    "Example: A class Account that has private attributes for balance and methods to deposit and withdraw money, ensuring that the balance is modified only through these methods."
   ]
  },
  {
   "cell_type": "code",
   "execution_count": 3,
   "id": "22ce041c-30d1-4040-b909-54f58f7045b9",
   "metadata": {},
   "outputs": [
    {
     "name": "stdout",
     "output_type": "stream",
     "text": [
      "Deposited 50. New balance is 150.\n",
      "Withdrew 30. New balance is 120.\n",
      "Final balance: 120\n"
     ]
    }
   ],
   "source": [
    "class Account:\n",
    "    def __init__(self, owner, balance=0):\n",
    "        self.owner = owner\n",
    "        self.__balance = balance  # Private attribute\n",
    "\n",
    "    def deposit(self, amount):\n",
    "        if amount > 0:\n",
    "            self.__balance += amount\n",
    "            print(f\"Deposited {amount}. New balance is {self.__balance}.\")\n",
    "        else:\n",
    "            print(\"Deposit amount must be positive.\")\n",
    "\n",
    "    def withdraw(self, amount):\n",
    "        if 0 < amount <= self.__balance:\n",
    "            self.__balance -= amount\n",
    "            print(f\"Withdrew {amount}. New balance is {self.__balance}.\")\n",
    "        else:\n",
    "            print(\"Insufficient balance or invalid amount.\")\n",
    "\n",
    "    def get_balance(self):\n",
    "        return self.__balance\n",
    "\n",
    "# Using the encapsulated Account class\n",
    "my_account = Account(\"Alice\", 100)\n",
    "my_account.deposit(50)\n",
    "my_account.withdraw(30)\n",
    "print(\"Final balance:\", my_account.get_balance())\n",
    "\n",
    "# Trying to access private attribute directly (will raise an error)\n",
    "# print(my_account.__balance)  # AttributeError: 'Account' object has no attribute '__balance'\n"
   ]
  },
  {
   "cell_type": "markdown",
   "id": "4d8d8c1a-9272-4362-b04c-e6bd14e77985",
   "metadata": {},
   "source": [
    "Q3. What is abc module in python? Why is it used?"
   ]
  },
  {
   "cell_type": "raw",
   "id": "08335843-3eed-4ddd-9997-075d64cd4a80",
   "metadata": {},
   "source": [
    "Answer:-\n",
    "The abc module in Python stands for \"Abstract Base Classes.\" It provides the infrastructure for defining abstract base classes, which can be used to implement abstraction in Python. Abstract base classes are a way to define interfaces when other classes inherit from them, ensuring that derived classes implement certain methods.\n",
    "\n",
    "Key Points of the abc Module:\n",
    "Defining Abstract Methods: You can define methods that must be implemented by any subclass.\n",
    "Enforcing Method Implementation: Subclasses of an abstract base class must implement all abstract methods; otherwise, instantiation will result in an error.\n",
    "Creating a Hierarchy of Classes: Helps in creating a clear hierarchy and promoting code reuse and consistency.\n",
    "Why Use the abc Module?\n",
    "Enforcement of Method Implementation: Ensures that subclasses provide concrete implementations for the abstract methods.\n",
    "Standardized Interfaces: Promotes consistency in method signatures and interfaces across different classes.\n",
    "Prevention of Direct Instantiation: Abstract base classes cannot be instantiated directly, preventing the use of incomplete objects.\n",
    "Example Usage of the abc Module:\n",
    "Here’s how you can use the abc module to define an abstract base class and enforce method implementation in subclasses:"
   ]
  },
  {
   "cell_type": "code",
   "execution_count": 2,
   "id": "01b2b6d8-8c07-41b7-bcd5-0bdd0b67a66d",
   "metadata": {},
   "outputs": [
    {
     "name": "stdout",
     "output_type": "stream",
     "text": [
      "Bark\n",
      "Run\n",
      "Chirp\n",
      "Fly\n"
     ]
    }
   ],
   "source": [
    "from abc import ABC, abstractmethod\n",
    "\n",
    "class Animal(ABC):\n",
    "    @abstractmethod\n",
    "    def make_sound(self):\n",
    "        pass\n",
    "\n",
    "    @abstractmethod\n",
    "    def move(self):\n",
    "        pass\n",
    "\n",
    "class Dog(Animal):\n",
    "    def make_sound(self):\n",
    "        return \"Bark\"\n",
    "    \n",
    "    def move(self):\n",
    "        return \"Run\"\n",
    "\n",
    "class Bird(Animal):\n",
    "    def make_sound(self):\n",
    "        return \"Chirp\"\n",
    "    \n",
    "    def move(self):\n",
    "        return \"Fly\"\n",
    "\n",
    "# Using the abstract base classes and subclasses\n",
    "dog = Dog()\n",
    "print(dog.make_sound())  # Output: Bark\n",
    "print(dog.move())        # Output: Run\n",
    "\n",
    "bird = Bird()\n",
    "print(bird.make_sound())  # Output: Chirp\n",
    "print(bird.move())        # Output: Fly\n",
    "\n",
    "# Trying to instantiate an abstract base class will raise an error\n",
    "# animal = Animal()  # TypeError: Can't instantiate abstract class Animal with abstract methods make_sound, move\n"
   ]
  },
  {
   "cell_type": "markdown",
   "id": "21f59752-dc8a-453c-a74a-a1a131fcbac3",
   "metadata": {},
   "source": [
    "Q4. How can we achieve data abstraction?"
   ]
  },
  {
   "cell_type": "raw",
   "id": "89d634eb-0a25-455b-a90f-f95d05ceded3",
   "metadata": {},
   "source": [
    "Answer:-\n",
    "Data abstraction in programming is the process of providing only essential information to the outside world and hiding the background details. In Python, data abstraction can be achieved using classes and the principles of encapsulation and abstraction. Here’s how you can achieve data abstraction:\n",
    "\n",
    "1. Using Classes and Objects\n",
    "By defining classes, you can abstract the data and provide a simplified interface for interacting with the data.\n",
    "\n",
    "2. Encapsulation\n",
    "Encapsulation is the process of bundling the data (attributes) and methods (functions) that operate on the data into a single unit, or class. It also restricts direct access to some of the object's components, which helps in hiding the internal representation of the object.\n",
    "\n",
    "Steps to Achieve Data Abstraction:\n",
    "Define a Class: Create a class that represents the abstract concept.\n",
    "Private Attributes and Methods: Use private attributes and methods to hide the internal details.\n",
    "Public Methods: Provide public methods to interact with the object."
   ]
  },
  {
   "cell_type": "code",
   "execution_count": 3,
   "id": "ecc15fcd-d3f6-4147-b330-448f768ca1bc",
   "metadata": {},
   "outputs": [
    {
     "name": "stdout",
     "output_type": "stream",
     "text": [
      "Deposited 50. New balance is 150.\n",
      "Withdrew 30. New balance is 120.\n",
      "Final balance: 120\n"
     ]
    }
   ],
   "source": [
    "class BankAccount:\n",
    "    def __init__(self, owner, balance=0):\n",
    "        self.owner = owner\n",
    "        self.__balance = balance  # Private attribute\n",
    "\n",
    "    def deposit(self, amount):\n",
    "        if amount > 0:\n",
    "            self.__balance += amount\n",
    "            print(f\"Deposited {amount}. New balance is {self.__balance}.\")\n",
    "        else:\n",
    "            print(\"Deposit amount must be positive.\")\n",
    "\n",
    "    def withdraw(self, amount):\n",
    "        if 0 < amount <= self.__balance:\n",
    "            self.__balance -= amount\n",
    "            print(f\"Withdrew {amount}. New balance is {self.__balance}.\")\n",
    "        else:\n",
    "            print(\"Insufficient balance or invalid amount.\")\n",
    "\n",
    "    def get_balance(self):\n",
    "        return self.__balance\n",
    "\n",
    "# Using the BankAccount class\n",
    "account = BankAccount(\"Alice\", 100)\n",
    "account.deposit(50)\n",
    "account.withdraw(30)\n",
    "print(\"Final balance:\", account.get_balance())\n",
    "\n",
    "# Trying to access private attribute directly (will raise an error)\n",
    "# print(account.__balance)  # AttributeError: 'BankAccount' object has no attribute '__balance'\n"
   ]
  },
  {
   "cell_type": "markdown",
   "id": "2f964c95-c799-419b-b012-e98b447921a0",
   "metadata": {},
   "source": [
    "Q5. Can we create an instance of an abstract class? Explain your answer."
   ]
  },
  {
   "cell_type": "markdown",
   "id": "78cb6947-f972-4cff-8765-ddf8d468e464",
   "metadata": {},
   "source": [
    "Answer:-\n",
    "No, you cannot create an instance of an abstract class in Python. An abstract class is meant to serve as a blueprint for other classes, ensuring that they implement certain methods. The purpose of an abstract class is to define a common interface that must be followed by any concrete subclass. This enforces a certain structure in the code, promoting consistency and reducing errors.\n",
    "\n",
    "Explanation with Example:\n",
    "The abc module in Python is used to create abstract base classes. Any class that contains one or more abstract methods cannot be instantiated. Let's look at an example to understand this better."
   ]
  },
  {
   "cell_type": "code",
   "execution_count": 4,
   "id": "04030e17-771b-42fc-8993-586171ab4fea",
   "metadata": {},
   "outputs": [
    {
     "name": "stdout",
     "output_type": "stream",
     "text": [
      "Can't instantiate abstract class Animal with abstract methods make_sound, move\n",
      "Bark\n",
      "Run\n"
     ]
    }
   ],
   "source": [
    "from abc import ABC, abstractmethod\n",
    "\n",
    "class Animal(ABC):\n",
    "    @abstractmethod\n",
    "    def make_sound(self):\n",
    "        pass\n",
    "\n",
    "    @abstractmethod\n",
    "    def move(self):\n",
    "        pass\n",
    "\n",
    "class Dog(Animal):\n",
    "    def make_sound(self):\n",
    "        return \"Bark\"\n",
    "    \n",
    "    def move(self):\n",
    "        return \"Run\"\n",
    "\n",
    "# Trying to instantiate an abstract class\n",
    "try:\n",
    "    animal = Animal()\n",
    "except TypeError as e:\n",
    "    print(e)  # Output: Can't instantiate abstract class Animal with abstract methods make_sound, move\n",
    "\n",
    "# Instantiating a subclass\n",
    "dog = Dog()\n",
    "print(dog.make_sound())  # Output: Bark\n",
    "print(dog.move())        # Output: Run\n"
   ]
  },
  {
   "cell_type": "code",
   "execution_count": null,
   "id": "cc1634c1-256a-413f-b1b7-fd49e0caf809",
   "metadata": {},
   "outputs": [],
   "source": []
  }
 ],
 "metadata": {
  "kernelspec": {
   "display_name": "Python 3 (ipykernel)",
   "language": "python",
   "name": "python3"
  },
  "language_info": {
   "codemirror_mode": {
    "name": "ipython",
    "version": 3
   },
   "file_extension": ".py",
   "mimetype": "text/x-python",
   "name": "python",
   "nbconvert_exporter": "python",
   "pygments_lexer": "ipython3",
   "version": "3.10.8"
  }
 },
 "nbformat": 4,
 "nbformat_minor": 5
}
